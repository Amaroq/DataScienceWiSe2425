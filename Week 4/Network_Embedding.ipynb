{
 "cells": [
  {
   "cell_type": "code",
   "execution_count": 294,
   "metadata": {},
   "outputs": [],
   "source": [
    "import numpy as np\n",
    "import matplotlib.pyplot as plt\n",
    "from IPython import display"
   ]
  },
  {
   "cell_type": "markdown",
   "metadata": {},
   "source": [
    "#### Christian-Albrechts-Universität zu Kiel --  Institut für Informatik -- Marine Data Science\n",
    "\n",
    "#### WiSe 2024/25 Lecture: Data Science\n",
    "\n",
    "|Prof. Dr. Kevin Köser | kk@informatik.uni-kiel.de |\n",
    "|:--:|:--:|\n",
    "   \n",
    "<h1 style=\"text-align: center;\">Network Embedding</h1>"
   ]
  },
  {
   "cell_type": "markdown",
   "metadata": {},
   "source": [
    "## Global Path Planning\n",
    "\n",
    "*Graph-search algorithms like Dijkstra or A∗ can be used to plan paths in graphs from a start to a goal. If the cells of a grid map are represented as vertices of a graph with edges between the neighboring cells, graph-search algorithms can be used for  robot path planning. For this exercise sheet we consider the 8-neighborhood of a cell $<x, y>$, which is defined as the set of cells that are adjacent to $<x, y>$ either horizontally, vertically or diagonally.*\n",
    "\n",
    "*You can find an implementation of graph-based 2D path planning-framework at the end this notebook. Complete the missing pieces following the instructions below.*"
   ]
  },
  {
   "cell_type": "markdown",
   "metadata": {},
   "source": [
    "## Dijkstra Algorithm\n",
    "\n",
    "The Dijkstra algorithm can be used to calculate minimum cost paths in a graph. During search, it always chooses the vertex from the graph with the lowest cost from the start and adds its neighboring vertices to the search graph."
   ]
  },
  {
   "cell_type": "markdown",
   "metadata": {},
   "source": [
    "- Let M $(x, y)$ denote an occupancy grid map. During search, the grid cells are connected to their neighboring cells to construct the search graph. The function get_neighborhood takes the coordinates of a cell and returns a n × 2 vector with the cell coordinates of its neighbors, considering the boundaries of the map."
   ]
  },
  {
   "cell_type": "code",
   "execution_count": 295,
   "metadata": {},
   "outputs": [],
   "source": [
    "def get_neighborhood(cell, occ_map_shape):\n",
    "  '''\n",
    "  Arguments:\n",
    "  cell -- cell coordinates as [x, y]\n",
    "  occ_map_shape -- shape of the occupancy map (nx, ny)\n",
    "\n",
    "  Output:\n",
    "  neighbors -- list of up to eight neighbor coordinate tuples [(x1, y1), (x2, y2), ...]\n",
    "  '''\n",
    "\n",
    "  neighbors = []  \n",
    "\n",
    "  for i in [-1, 0, 1]:\n",
    "    for j in [-1, 0, 1]:\n",
    "      x = cell[0] + i\n",
    "      y = cell[1] + j\n",
    "      if x < 0 or x >= occ_map_shape[0]: continue\n",
    "      if y < 0 or y >= occ_map_shape[1]: continue\n",
    "      if i == 0 and j == 0: continue\n",
    "      neighbors.append((x, y))\n",
    "\n",
    "\n",
    "  return neighbors"
   ]
  },
  {
   "cell_type": "markdown",
   "metadata": {},
   "source": [
    "- get_edge_cost formulates a function for the edge costs between two cells that allows for planning of the shortest collision free path on the grid. It include occupancy information to prefer cells with low occupancy probability over cells with higher probability. We regard a cell as an obstacle if its occupancy probability exceeds a threshold of 0.5."
   ]
  },
  {
   "cell_type": "code",
   "execution_count": 296,
   "metadata": {},
   "outputs": [],
   "source": [
    "def get_edge_cost(parent, child, occ_map):\n",
    "  '''\n",
    "  Calculate cost for moving from parent to child.\n",
    "\n",
    "  Arguments:\n",
    "  parent, child -- cell coordinates as [x, y]\n",
    "  occ_map -- occupancy probability map\n",
    "\n",
    "  Output:\n",
    "  edge_cost -- calculated cost\n",
    "  '''\n",
    "  \n",
    "  edge_cost = 0  \n",
    "\n",
    "  occ = occ_map[child[0], child[1]]\n",
    "  if occ >= .5:\n",
    "    return np.inf\n",
    "  edge_cost = np.linalg.norm(parent - child)\n",
    "\n",
    "  return edge_cost + 10 * occ"
   ]
  },
  {
   "cell_type": "markdown",
   "metadata": {},
   "source": [
    "- The update step of the Dijkstra algorithm in run_path_planning. For the current parent node, we consider all of its neighbors and calculate their tentative distances from the start location (cost) and their predecessor in the grid. You are now ready to run the Dijkstra algorithm within the planning_framework.*"
   ]
  },
  {
   "cell_type": "code",
   "execution_count": 297,
   "metadata": {},
   "outputs": [],
   "source": [
    "def update_step(x, y, costs, predecessors, parent, occ_map):\n",
    "    '''\n",
    "    In-place update of costs of predecessors for neighbours\n",
    "\n",
    "    Arguments:\n",
    "    x,y -- cell coordinates of child node\n",
    "    costs -- costs[x,y] is the minimum currently know distance to cell at (x,y)\n",
    "    parent -- cell coordinates as [x, y]\n",
    "    predecessors -- predecessors[x,y] is the predecessors to cell at (x,y) on the best known path\n",
    "    occ_map -- occupancy probability map\n",
    "    \n",
    "    Output:\n",
    "    \n",
    "\n",
    "    '''\n",
    "    neighbors = get_neighborhood(parent, occ_map.shape)\n",
    "    for child in neighbors:\n",
    "        child_cost = costs[x, y] + get_edge_cost(parent, child, occ_map)\n",
    "        if child_cost < costs[child]:\n",
    "            costs[child] = child_cost\n",
    "            predecessors[child] = parent\n",
    "            \n"
   ]
  },
  {
   "cell_type": "markdown",
   "metadata": {},
   "source": [
    "## Exercise: Reference Point Embedding\n",
    "\n",
    "*The A∗ algorithm employs a heuristic to perform an informed search with higher efficiency than the Dijkstra algorithm.*"
   ]
  },
  {
   "cell_type": "markdown",
   "metadata": {},
   "source": [
    "- **(a)** *Define a heuristic for optimal 2D mobile robot path planning. Complete the function $get\\_heuristic$ in the planning framework. The function takes the coordinates of a cell and the goal and returns the estimated costs to the goal. You are now ready to run the A∗ algorithm with the planning_framework.*"
   ]
  },
  {
   "cell_type": "markdown",
   "metadata": {},
   "source": [
    "The Euclidean distance gives a lower bound for the cost and therefore is a good heuristic. It is equivalent to the actual cost in case of a straight path along cells with zero cost."
   ]
  },
  {
   "cell_type": "markdown",
   "metadata": {},
   "source": [
    "- **(b)** *What happens if you inflate your heuristic by using $h2$ , which is a multiple of your defined heuristic h? Try different multiples: $h2 = {1, 2, 5, 10} · h$*"
   ]
  },
  {
   "cell_type": "markdown",
   "metadata": {},
   "source": [
    "### Answer:"
   ]
  },
  {
   "cell_type": "markdown",
   "metadata": {},
   "source": [
    "- **(c)** Implement the reference-based graph embedding by filling in the stub of the function `calculate_embedding`.  \n",
    "  - This function should compute embeddings for the graph nodes using the reference-node based approach."
   ]
  },
  {
   "cell_type": "markdown",
   "metadata": {},
   "source": [
    "- **(d)** Fill in the stub function `calculate_network_distance_estimations`.  \n",
    "  - This function should compute a lower bound of the network distance between nodes, utilizing the embedding generated in **Task (c)**.\n",
    "\n"
   ]
  },
  {
   "cell_type": "code",
   "execution_count": 298,
   "metadata": {},
   "outputs": [],
   "source": [
    "def get_heuristic(cell, goal, embedding = None):\n",
    "    '''\n",
    "    Estimate cost for moving from cell to goal based on heuristic.\n",
    "    Arguments:\n",
    "    cell, goal -- cell coordinates as [x, y]\n",
    "    embedding -- optional. Pass the reference node embedding if network distance based estimation is to be applied\n",
    "    Output:\n",
    "    cost -- estimated cost\n",
    "    '''\n",
    "\n",
    "    def calculate_network_distance_estimations(embedding, cell, goal):\n",
    "        #########################################\n",
    "        # task d\n",
    "        ''' to be quite honest, I have little to no idea what's the goal here\n",
    "        the network based algorithm now produces a valid path - it may not be\n",
    "        the shortest and certainly isn't the most cost efficient, but it's a path.'''\n",
    "        cell = tuple(cell)\n",
    "        goal_tuple = tuple(goal)\n",
    "        \n",
    "        cell_embedding = embedding[cell]\n",
    "        goal_embedding = embedding[goal_tuple]\n",
    "        return sum(abs(c-g) for c,g in zip(cell_embedding, goal_embedding))\n",
    "        #########################################\n",
    "        return 0\n",
    "\n",
    "    heuristic = 0\n",
    "    h2 = 1\n",
    "\n",
    "    # network distance based\n",
    "    if embedding is not None:\n",
    "        heuristic = h2 * calculate_network_distance_estimations(embedding, cell, goal)\n",
    "    \n",
    "    # linear distance based\n",
    "    else:\n",
    "        #########################################\n",
    "        x1, y1 = cell\n",
    "        x2, y2 = goal\n",
    "        heuristic = ((x1-x2)**2 + (y1-y2)**2)**0.5\n",
    "\n",
    "        '''\n",
    "        With larger h2 multipliers the algorithm gets significantly faster at a cost\n",
    "        of accuracy - the computed path might not be the most efficient.\n",
    "        '''\n",
    "        #########################################\n",
    "        pass\n",
    "\n",
    "    return heuristic"
   ]
  },
  {
   "cell_type": "code",
   "execution_count": null,
   "metadata": {},
   "outputs": [],
   "source": [
    "def calculate_embedding(no_of_reference_nodes, occ_map):\n",
    "  \n",
    "  def shortest_path(ref_node, occ_map):\n",
    "    # cost values for each cell, filled incrementally. \n",
    "    # Initialize with infinity\n",
    "    costs = np.ones(occ_map.shape) * np.inf\n",
    "    \n",
    "    # cells that have already been visited\n",
    "    closed_flags = np.zeros(occ_map.shape)\n",
    "    \n",
    "    # store predecessors for each visited cell \n",
    "    predecessors = -np.ones(occ_map.shape + (2,), dtype=int)\n",
    "\n",
    "    # start search\n",
    "    parent = ref_node\n",
    "    costs[ref_node[0], ref_node[1]] = 0\n",
    "\n",
    "    # loop until goal is found\n",
    "    while True:\n",
    "      \n",
    "      # costs of candidate cells for expansion (i.e. not in the closed list)\n",
    "      open_costs = np.where(closed_flags==1, np.inf, costs)\n",
    "\n",
    "      # find cell with minimum cost in the open list\n",
    "      x, y = np.unravel_index(open_costs.argmin(), open_costs.shape)\n",
    "      \n",
    "      # break loop if minimal costs are infinite (no open cells anymore)\n",
    "      if open_costs[x, y] == np.inf:\n",
    "        break\n",
    "      \n",
    "      # set as parent and put it in closed list\n",
    "      parent = np.array([x, y])\n",
    "      closed_flags[x, y] = 1\n",
    "      \n",
    "      # update costs and predecessor for neighbors\n",
    "      update_step(x, y, costs, predecessors, parent, occ_map)\n",
    "    \n",
    "    return costs\n",
    "  \n",
    "    #choose n random reference points\n",
    "  \n",
    "\n",
    "  #########################################\n",
    "\n",
    "  # task c\n",
    "\n",
    "  accessible_cells = np.argwhere(occ_map == 0)\n",
    "  ref_nodes = accessible_cells[np.random.choice(len(accessible_cells), no_of_reference_nodes, replace = False)]\n",
    "\n",
    "  embedding = {}   # store embeddings in dict\n",
    "  for ref_node in ref_nodes:\n",
    "    cost = shortest_path(ref_node, occ_map)\n",
    "    for x in range(occ_map.shape[0]):\n",
    "      for y in range(occ_map.shape[1]):\n",
    "        #if occ_map[x,y] == 0:       # only accessible cells\n",
    "          if (x,y) not in embedding:\n",
    "            embedding[(x,y)] = []    # embedding for each node stored in list\n",
    "          embedding[(x,y)].append(cost[x,y])\n",
    "  return embedding\n",
    "  #########################################\n",
    "\n",
    "  #inaccessible cells should not be reference points\n",
    "  \n",
    "  \n",
    "  return 0"
   ]
  },
  {
   "cell_type": "markdown",
   "metadata": {},
   "source": [
    "# Path Planning Framework"
   ]
  },
  {
   "cell_type": "code",
   "execution_count": 300,
   "metadata": {},
   "outputs": [],
   "source": [
    "def plot_map(occ_map, start, goal):\n",
    "\n",
    "  plt.imshow(occ_map.T, cmap=plt.cm.gray, interpolation='none', origin='upper')\n",
    "  plt.plot([start[0]], [start[1]], 'ro')\n",
    "  plt.plot([goal[0]], [goal[1]], 'go')\n",
    "  plt.axis([0, occ_map.shape[0]-1, 0, occ_map.shape[1]-1])\n",
    "  plt.xlabel('x')\n",
    "  plt.ylabel('y')\n",
    "\n",
    "def plot_expanded(expanded, occ_map, start, goal, clear=True):\n",
    "  \n",
    "  if np.array_equal(expanded, start) or np.array_equal(expanded, goal):\n",
    "    return\n",
    "  \n",
    "  plot_map(occ_map, start, goal)\n",
    "  idx = expanded.nonzero()\n",
    "\n",
    "  plt.plot(idx[0], idx[1], 'yo')\n",
    "  #plt.show()\n",
    "  plt.plot([start[0]], [start[1]], 'ro')\n",
    "  plt.plot([goal[0]], [goal[1]], 'go')\n",
    "  if clear:\n",
    "    display.clear_output(wait=True)\n",
    "    plt.pause(1e-8)\n",
    "\n",
    "def plot_path(expanded, occ_map, path, start, goal):\n",
    "\n",
    "  if np.array_equal(path, goal):\n",
    "    return\n",
    "  \n",
    "  plot_map(occ_map, start, goal)\n",
    "  plot_expanded(expanded, occ_map, start, goal, False)\n",
    "  x = [xy[0] for xy in path]\n",
    "  y = [xy[1] for xy in path]\n",
    "  plt.plot(x, y, 'bo')\n",
    "  plt.plot([goal[0]], [goal[1]], 'go')\n",
    "\n",
    "  display.clear_output(wait=True)\n",
    "  plt.pause(.01)\n",
    "\n",
    "def plot_costs(cost):\n",
    "  plt.figure()\n",
    "  plt.title(\"Cost\")\n",
    "  plt.imshow(cost.T, cmap=plt.cm.gray, interpolation='none', origin='upper')\n",
    "  plt.axis([0, cost.shape[0]-1, 0, cost.shape[1]-1])\n",
    "  plt.xlabel('x')\n",
    "  plt.ylabel('y')\n",
    "\n",
    "\n",
    "def run_path_planning(occ_map, start, goal, h2_multiplier = 1, use_heuristic=None):\n",
    "  '''\n",
    "  This implements the\n",
    "  - A* algorithm using linear distance (in case heuristic is \"linear_distance\")\n",
    "  - A* algorithm using reference node based network distance (in case heuristic is \"network_based\")\n",
    "  - Dikstra algorithm (in case heuristic is none of the above)\n",
    "  '''\n",
    " \n",
    "  plot_map(occ_map, start, goal)\n",
    "\n",
    "  # cost values for each cell, filled incrementally. \n",
    "  # Initialize with infinity\n",
    "  costs = np.ones(occ_map.shape) * np.inf\n",
    "  \n",
    "  # cells that have already been visited\n",
    "  closed_flags = np.zeros(occ_map.shape)\n",
    "  \n",
    "  # store predecessors for each visited cell \n",
    "  predecessors = -np.ones(occ_map.shape + (2,), dtype=int)\n",
    "\n",
    "  \n",
    "  # heuristic for A*\n",
    "  heuristic = np.zeros(occ_map.shape)\n",
    "\n",
    "  # linear distance heuristic\n",
    "  if use_heuristic == \"linear_distance\":\n",
    "    for x in range(occ_map.shape[0]):\n",
    "      for y in range(occ_map.shape[1]):\n",
    "        heuristic[x, y] = get_heuristic([x, y], goal)\n",
    "  \n",
    "  # network distance heuristic usding reference nodes\n",
    "  elif use_heuristic == \"network_based\":\n",
    "    no_of_reference_nodes = 10\n",
    "    embedding = calculate_embedding(no_of_reference_nodes, occ_map)\n",
    "    for x in range(occ_map.shape[0]):\n",
    "      for y in range(occ_map.shape[1]):\n",
    "        heuristic[x, y] = get_heuristic([x, y], goal, embedding)\n",
    "\n",
    "  #Dijkstra - no heuristic\n",
    "  else:\n",
    "    pass\n",
    "\n",
    "  # start search\n",
    "  parent = start\n",
    "  costs[start[0], start[1]] = 0\n",
    "\n",
    "  # loop until goal is found\n",
    "  while not np.array_equal(parent, goal):\n",
    "    \n",
    "    # costs of candidate cells for expansion (i.e. not in the closed list)\n",
    "    open_costs = np.where(closed_flags==1, np.inf, costs) + heuristic\n",
    "\n",
    "    # find cell with minimum cost in the open list\n",
    "    x, y = np.unravel_index(open_costs.argmin(), open_costs.shape)\n",
    "    \n",
    "    # break loop if minimal costs are infinite (no open cells anymore)\n",
    "    if open_costs[x, y] == np.inf:\n",
    "      break\n",
    "    \n",
    "    # set as parent and put it in closed list\n",
    "    parent = np.array([x, y])\n",
    "    closed_flags[x, y] = 1\n",
    "    \n",
    "    # update costs and predecessor for neighbors\n",
    "    update_step(x, y, costs, predecessors, parent, occ_map)\n",
    "\n",
    "    #visualize grid cells that have been expanded\n",
    "    plot_expanded(closed_flags, occ_map, start, goal)\n",
    "  \n",
    "  # rewind the path from goal to start (at start predecessor is [-1,-1])\n",
    "  if np.array_equal(parent, goal):\n",
    "    path_length = 0\n",
    "    path = []\n",
    "    while predecessors[parent[0], parent[1]][0] >= 0:\n",
    "\n",
    "      predecessor = predecessors[parent[0], parent[1]]\n",
    "      path_length += np.linalg.norm(parent - predecessor)\n",
    "      path.append(parent)\n",
    "      parent = predecessor\n",
    "\n",
    "      plot_path(closed_flags, occ_map, path, start, goal)\n",
    "\n",
    "    print (\"found goal     : \" + str(parent) )\n",
    "    print (\"cells expanded : \" + str(np.count_nonzero(closed_flags)) )\n",
    "    print (\"path cost      : \" + str(costs[goal[0], goal[1]]) )\n",
    "    print (\"path length    : \" + str(path_length) )\n",
    "  else:\n",
    "    print (\"no valid path found\")\n",
    "\n",
    "  #plot the costs \n",
    "  plot_costs(costs)"
   ]
  },
  {
   "cell_type": "code",
   "execution_count": null,
   "metadata": {},
   "outputs": [],
   "source": [
    "#run Dijkstra\n",
    "\n",
    "# load the occupancy map\n",
    "occ_map = np.loadtxt('map.txt')\n",
    "\n",
    "# start and goal position [x, y]\n",
    "start = np.array([22, 33])\n",
    "goal = np.array([40, 15])\n",
    "\n",
    "run_path_planning(occ_map, start, goal)#, use_heuristic=\"linear_distance\")"
   ]
  },
  {
   "cell_type": "code",
   "execution_count": null,
   "metadata": {},
   "outputs": [],
   "source": [
    "#run A* with linear distance heuristic\n",
    "run_path_planning(occ_map, start, goal, use_heuristic=\"linear_distance\")"
   ]
  },
  {
   "cell_type": "code",
   "execution_count": 303,
   "metadata": {},
   "outputs": [
    {
     "data": {
      "image/png": "[encoded data removed]",
      "text/plain": [
       "<Figure size 640x480 with 1 Axes>"
      ]
     },
     "metadata": {},
     "output_type": "display_data"
    },
    {
     "name": "stdout",
     "output_type": "stream",
     "text": [
      "found goal     : [22 33]\n",
      "cells expanded : 73\n",
      "path cost      : 70.32856299236305\n",
      "path length    : 51.21320343559641\n"
     ]
    },
    {
     "data": {
      "image/png": "[encoded data removed]",
      "text/plain": [
       "<Figure size 640x480 with 1 Axes>"
      ]
     },
     "metadata": {},
     "output_type": "display_data"
    }
   ],
   "source": [
    "#run A* with network distance based heuristic\n",
    "run_path_planning(occ_map, start, goal, use_heuristic=\"network_based\")"
   ]
  }
 ],
 "metadata": {
  "kernelspec": {
   "display_name": "Python 3",
   "language": "python",
   "name": "python3"
  },
  "language_info": {
   "codemirror_mode": {
    "name": "ipython",
    "version": 3
   },
   "file_extension": ".py",
   "mimetype": "text/x-python",
   "name": "python",
   "nbconvert_exporter": "python",
   "pygments_lexer": "ipython3",
   "version": "3.12.0"
  }
 },
 "nbformat": 4,
 "nbformat_minor": 2
}
